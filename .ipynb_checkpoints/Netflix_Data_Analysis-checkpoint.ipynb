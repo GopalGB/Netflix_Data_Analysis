{
 "cells": [
  {
   "cell_type": "code",
   "execution_count": 2,
   "id": "e2a027ec-f595-4ce3-b938-68f06637d98e",
   "metadata": {},
   "outputs": [
    {
     "data": {
      "text/html": [
       "<div>\n",
       "<style scoped>\n",
       "    .dataframe tbody tr th:only-of-type {\n",
       "        vertical-align: middle;\n",
       "    }\n",
       "\n",
       "    .dataframe tbody tr th {\n",
       "        vertical-align: top;\n",
       "    }\n",
       "\n",
       "    .dataframe thead th {\n",
       "        text-align: right;\n",
       "    }\n",
       "</style>\n",
       "<table border=\"1\" class=\"dataframe\">\n",
       "  <thead>\n",
       "    <tr style=\"text-align: right;\">\n",
       "      <th></th>\n",
       "      <th>show_id</th>\n",
       "      <th>type</th>\n",
       "      <th>title</th>\n",
       "      <th>director</th>\n",
       "      <th>cast</th>\n",
       "      <th>country</th>\n",
       "      <th>date_added</th>\n",
       "      <th>release_year</th>\n",
       "      <th>rating</th>\n",
       "      <th>duration</th>\n",
       "      <th>listed_in</th>\n",
       "      <th>description</th>\n",
       "    </tr>\n",
       "  </thead>\n",
       "  <tbody>\n",
       "    <tr>\n",
       "      <th>0</th>\n",
       "      <td>s1</td>\n",
       "      <td>Movie</td>\n",
       "      <td>Dick Johnson Is Dead</td>\n",
       "      <td>Kirsten Johnson</td>\n",
       "      <td>NaN</td>\n",
       "      <td>United States</td>\n",
       "      <td>September 25, 2021</td>\n",
       "      <td>2020</td>\n",
       "      <td>PG-13</td>\n",
       "      <td>90 min</td>\n",
       "      <td>Documentaries</td>\n",
       "      <td>As her father nears the end of his life, filmm...</td>\n",
       "    </tr>\n",
       "    <tr>\n",
       "      <th>1</th>\n",
       "      <td>s2</td>\n",
       "      <td>TV Show</td>\n",
       "      <td>Blood &amp; Water</td>\n",
       "      <td>NaN</td>\n",
       "      <td>Ama Qamata, Khosi Ngema, Gail Mabalane, Thaban...</td>\n",
       "      <td>South Africa</td>\n",
       "      <td>September 24, 2021</td>\n",
       "      <td>2021</td>\n",
       "      <td>TV-MA</td>\n",
       "      <td>2 Seasons</td>\n",
       "      <td>International TV Shows, TV Dramas, TV Mysteries</td>\n",
       "      <td>After crossing paths at a party, a Cape Town t...</td>\n",
       "    </tr>\n",
       "    <tr>\n",
       "      <th>2</th>\n",
       "      <td>s3</td>\n",
       "      <td>TV Show</td>\n",
       "      <td>Ganglands</td>\n",
       "      <td>Julien Leclercq</td>\n",
       "      <td>Sami Bouajila, Tracy Gotoas, Samuel Jouy, Nabi...</td>\n",
       "      <td>NaN</td>\n",
       "      <td>September 24, 2021</td>\n",
       "      <td>2021</td>\n",
       "      <td>TV-MA</td>\n",
       "      <td>1 Season</td>\n",
       "      <td>Crime TV Shows, International TV Shows, TV Act...</td>\n",
       "      <td>To protect his family from a powerful drug lor...</td>\n",
       "    </tr>\n",
       "    <tr>\n",
       "      <th>3</th>\n",
       "      <td>s4</td>\n",
       "      <td>TV Show</td>\n",
       "      <td>Jailbirds New Orleans</td>\n",
       "      <td>NaN</td>\n",
       "      <td>NaN</td>\n",
       "      <td>NaN</td>\n",
       "      <td>September 24, 2021</td>\n",
       "      <td>2021</td>\n",
       "      <td>TV-MA</td>\n",
       "      <td>1 Season</td>\n",
       "      <td>Docuseries, Reality TV</td>\n",
       "      <td>Feuds, flirtations and toilet talk go down amo...</td>\n",
       "    </tr>\n",
       "    <tr>\n",
       "      <th>4</th>\n",
       "      <td>s5</td>\n",
       "      <td>TV Show</td>\n",
       "      <td>Kota Factory</td>\n",
       "      <td>NaN</td>\n",
       "      <td>Mayur More, Jitendra Kumar, Ranjan Raj, Alam K...</td>\n",
       "      <td>India</td>\n",
       "      <td>September 24, 2021</td>\n",
       "      <td>2021</td>\n",
       "      <td>TV-MA</td>\n",
       "      <td>2 Seasons</td>\n",
       "      <td>International TV Shows, Romantic TV Shows, TV ...</td>\n",
       "      <td>In a city of coaching centers known to train I...</td>\n",
       "    </tr>\n",
       "  </tbody>\n",
       "</table>\n",
       "</div>"
      ],
      "text/plain": [
       "  show_id     type                  title         director  \\\n",
       "0      s1    Movie   Dick Johnson Is Dead  Kirsten Johnson   \n",
       "1      s2  TV Show          Blood & Water              NaN   \n",
       "2      s3  TV Show              Ganglands  Julien Leclercq   \n",
       "3      s4  TV Show  Jailbirds New Orleans              NaN   \n",
       "4      s5  TV Show           Kota Factory              NaN   \n",
       "\n",
       "                                                cast        country  \\\n",
       "0                                                NaN  United States   \n",
       "1  Ama Qamata, Khosi Ngema, Gail Mabalane, Thaban...   South Africa   \n",
       "2  Sami Bouajila, Tracy Gotoas, Samuel Jouy, Nabi...            NaN   \n",
       "3                                                NaN            NaN   \n",
       "4  Mayur More, Jitendra Kumar, Ranjan Raj, Alam K...          India   \n",
       "\n",
       "           date_added  release_year rating   duration  \\\n",
       "0  September 25, 2021          2020  PG-13     90 min   \n",
       "1  September 24, 2021          2021  TV-MA  2 Seasons   \n",
       "2  September 24, 2021          2021  TV-MA   1 Season   \n",
       "3  September 24, 2021          2021  TV-MA   1 Season   \n",
       "4  September 24, 2021          2021  TV-MA  2 Seasons   \n",
       "\n",
       "                                           listed_in  \\\n",
       "0                                      Documentaries   \n",
       "1    International TV Shows, TV Dramas, TV Mysteries   \n",
       "2  Crime TV Shows, International TV Shows, TV Act...   \n",
       "3                             Docuseries, Reality TV   \n",
       "4  International TV Shows, Romantic TV Shows, TV ...   \n",
       "\n",
       "                                         description  \n",
       "0  As her father nears the end of his life, filmm...  \n",
       "1  After crossing paths at a party, a Cape Town t...  \n",
       "2  To protect his family from a powerful drug lor...  \n",
       "3  Feuds, flirtations and toilet talk go down amo...  \n",
       "4  In a city of coaching centers known to train I...  "
      ]
     },
     "execution_count": 2,
     "metadata": {},
     "output_type": "execute_result"
    }
   ],
   "source": [
    "import pandas as pd\n",
    "import numpy as np\n",
    "netflix_data = pd.read_csv('/Users/gopalmacbook/Machine Learning/GitHub /Case Studies/Netflix_Recommendation/netflix.csv')\n",
    "netflix_data.head()"
   ]
  },
  {
   "cell_type": "code",
   "execution_count": 3,
   "id": "6db696f2-6c06-49c9-a60d-cad815bba469",
   "metadata": {},
   "outputs": [
    {
     "name": "stdout",
     "output_type": "stream",
     "text": [
      "<class 'pandas.core.frame.DataFrame'>\n",
      "RangeIndex: 8807 entries, 0 to 8806\n",
      "Data columns (total 12 columns):\n",
      " #   Column        Non-Null Count  Dtype \n",
      "---  ------        --------------  ----- \n",
      " 0   show_id       8807 non-null   object\n",
      " 1   type          8807 non-null   object\n",
      " 2   title         8807 non-null   object\n",
      " 3   director      6173 non-null   object\n",
      " 4   cast          7982 non-null   object\n",
      " 5   country       7976 non-null   object\n",
      " 6   date_added    8797 non-null   object\n",
      " 7   release_year  8807 non-null   int64 \n",
      " 8   rating        8803 non-null   object\n",
      " 9   duration      8804 non-null   object\n",
      " 10  listed_in     8807 non-null   object\n",
      " 11  description   8807 non-null   object\n",
      "dtypes: int64(1), object(11)\n",
      "memory usage: 825.8+ KB\n",
      "None\n"
     ]
    }
   ],
   "source": [
    "# Check the structure of the dataset\n",
    "print(netflix_data.info())"
   ]
  },
  {
   "cell_type": "code",
   "execution_count": 4,
   "id": "2003b0d6-a4b7-40fa-bcb5-612d229838ce",
   "metadata": {},
   "outputs": [
    {
     "name": "stdout",
     "output_type": "stream",
     "text": [
      "Total number of movies: 6131\n",
      "Total number of TV shows: 2676\n"
     ]
    }
   ],
   "source": [
    "total_movies = netflix_data[netflix_data['type'] == 'Movie'].shape[0]\n",
    "total_tv_shows = netflix_data[netflix_data['type'] == 'TV Show'].shape[0]\n",
    "print(\"Total number of movies:\", total_movies)\n",
    "print(\"Total number of TV shows:\", total_tv_shows)"
   ]
  },
  {
   "cell_type": "code",
   "execution_count": 5,
   "id": "30e4d993-d97e-4db5-8e9b-12c8a076f850",
   "metadata": {},
   "outputs": [
    {
     "name": "stdout",
     "output_type": "stream",
     "text": [
      "Content from different countries:\n",
      "country\n",
      "United States                             2818\n",
      "India                                      972\n",
      "United Kingdom                             419\n",
      "Japan                                      245\n",
      "South Korea                                199\n",
      "                                          ... \n",
      "Romania, Bulgaria, Hungary                   1\n",
      "Uruguay, Guatemala                           1\n",
      "France, Senegal, Belgium                     1\n",
      "Mexico, United States, Spain, Colombia       1\n",
      "United Arab Emirates, Jordan                 1\n",
      "Name: count, Length: 748, dtype: int64\n"
     ]
    }
   ],
   "source": [
    "country_counts = netflix_data['country'].value_counts()\n",
    "print(\"Content from different countries:\")\n",
    "print(country_counts)"
   ]
  },
  {
   "cell_type": "code",
   "execution_count": 6,
   "id": "68bdf6ca-0dd7-4220-8339-c99dd7366b6c",
   "metadata": {},
   "outputs": [
    {
     "name": "stdout",
     "output_type": "stream",
     "text": [
      "Distribution of content by release year:\n",
      "release_year\n",
      "1925       1\n",
      "1942       2\n",
      "1943       3\n",
      "1944       3\n",
      "1945       4\n",
      "        ... \n",
      "2017    1032\n",
      "2018    1147\n",
      "2019    1030\n",
      "2020     953\n",
      "2021     592\n",
      "Name: count, Length: 74, dtype: int64\n"
     ]
    }
   ],
   "source": [
    "release_year_counts = netflix_data['release_year'].value_counts().sort_index()\n",
    "print(\"Distribution of content by release year:\")\n",
    "print(release_year_counts)"
   ]
  },
  {
   "cell_type": "code",
   "execution_count": 7,
   "id": "c519ae6c-cbf7-44c2-a981-ad534bb29420",
   "metadata": {},
   "outputs": [
    {
     "name": "stdout",
     "output_type": "stream",
     "text": [
      "Comparison of TV shows vs. movies:\n",
      "type\n",
      "Movie      6131\n",
      "TV Show    2676\n",
      "Name: count, dtype: int64\n"
     ]
    }
   ],
   "source": [
    " content_types = netflix_data['type'].value_counts()\n",
    "print(\"Comparison of TV shows vs. movies:\")\n",
    "print(content_types)"
   ]
  },
  {
   "cell_type": "code",
   "execution_count": 14,
   "id": "aa89d266-095e-472b-8c54-aa98473d820e",
   "metadata": {},
   "outputs": [
    {
     "name": "stdout",
     "output_type": "stream",
     "text": [
      "Best time to launch a TV show by month:\n",
      "month_added\n",
      "April        209\n",
      "August       230\n",
      "December     250\n",
      "February     175\n",
      "January      181\n",
      "July         254\n",
      "June         232\n",
      "March        205\n",
      "May          187\n",
      "November     199\n",
      "October      210\n",
      "September    246\n",
      "Name: count, dtype: int64\n"
     ]
    }
   ],
   "source": [
    "netflix_data['date_added'] = pd.to_datetime(netflix_data['date_added'],errors='coerce')\n",
    "netflix_data['month_added'] = netflix_data['date_added'].dt.month_name()\n",
    "tv_show_counts_by_month = netflix_data[netflix_data['type'] == 'TV Show']['month_added'].value_counts().sort_index()\n",
    "print(\"Best time to launch a TV show by month:\")\n",
    "print(tv_show_counts_by_month)"
   ]
  },
  {
   "cell_type": "code",
   "execution_count": 15,
   "id": "8e05a884-8048-4de7-8203-857fe79c2227",
   "metadata": {},
   "outputs": [
    {
     "name": "stdout",
     "output_type": "stream",
     "text": [
      "Analysis of actors:\n",
      "cast\n",
      "Anupam Kher                43\n",
      "Shah Rukh Khan             35\n",
      "Julie Tejwani              33\n",
      "Naseeruddin Shah           32\n",
      "Takahiro Sakurai           32\n",
      "                           ..\n",
      "Maryam Zaree                1\n",
      "Melanie Straub              1\n",
      "Gabriela Maria Schmeide     1\n",
      "Helena Zengel               1\n",
      "Chittaranjan Tripathy       1\n",
      "Name: count, Length: 36439, dtype: int64\n"
     ]
    }
   ],
   "source": [
    "actors_counts = netflix_data['cast'].str.split(', ').explode().value_counts()\n",
    "print(\"Analysis of actors:\")\n",
    "print(actors_counts)"
   ]
  },
  {
   "cell_type": "code",
   "execution_count": 16,
   "id": "8a2ba442-2929-44dd-bd7c-04fcd9ff6c8e",
   "metadata": {},
   "outputs": [
    {
     "name": "stdout",
     "output_type": "stream",
     "text": [
      "Analysis of directors:\n",
      "director\n",
      "Rajiv Chilaka     22\n",
      "Jan Suter         21\n",
      "Raúl Campos       19\n",
      "Suhas Kadav       16\n",
      "Marcus Raboy      16\n",
      "                  ..\n",
      "Raymie Muzquiz     1\n",
      "Stu Livingston     1\n",
      "Joe Menendez       1\n",
      "Eric Bross         1\n",
      "Mozez Singh        1\n",
      "Name: count, Length: 4993, dtype: int64\n"
     ]
    }
   ],
   "source": [
    "directors_counts = netflix_data['director'].str.split(', ').explode().value_counts()\n",
    "print(\"Analysis of directors:\")\n",
    "print(directors_counts)"
   ]
  },
  {
   "cell_type": "markdown",
   "id": "cee26e91-0eb6-4b57-a109-181d6eee6f48",
   "metadata": {},
   "source": [
    "## 1.1 Summary of Basic Metrics Analysis:\n",
    "Total number of movies: 6,131\n",
    "\n",
    "Total number of TV shows: 2,676\n",
    "\n",
    "Content Availability in Different Countries: The dataset includes content from various countries,\n",
    "with the highest count from the United States (2,818), followed by India (972), and the United\n",
    "Kingdom (419). Netflix should focus on expanding its content library in countries with high demand\n",
    "and consider producing localized content to cater to specific markets. Distribution of Content by\n",
    "Release Year:\n",
    "\n",
    "The dataset spans a wide range of release years, from 1925 to 2021. The distribution shows an\n",
    "increasing trend in the number of movies and TV shows released over the years, with a significant\n",
    "spike in content released from 2015 onwards. Netflix can analyze the popularity of content from\n",
    "different eras to identify potential trends or preferences among viewers. Comparison of TV Shows\n",
    "vs. Movies:\n",
    "\n",
    "The dataset contains a higher number of movies (6,131) compared to TV shows (2,676). Netflix\n",
    "should analyze the popularity and demand for TV shows and movies separately to understand\n",
    "subscribers’ preferences and invest in producing high-quality content for the more popular category.\n",
    "Best Time to Launch a TV Show by Month:\n",
    "\n",
    "The analysis suggests the following months as potentially favorable for launching TV shows: December (250), July (254), and September (246). Netflix can strategically plan the release of new\n",
    "TV shows during these months to potentially capitalize on increased viewership and engagement.\n",
    "Analysis of Actors:\n",
    "\n",
    "The dataset includes various actors, with Anupam Kher (43) and Shah Rukh Khan (35) having\n",
    "the highest counts. Netflix can collaborate with popular actors who have been associated with\n",
    "successful content to create engaging shows/movies that have a higher likelihood of attracting\n",
    "viewers. Analysis of Directors:\n",
    "\n",
    "The dataset includes multiple directors, with Rajiv Chilaka (22) and Jan Suter (21) having the\n",
    "highest counts. Netflix can identify talented directors and collaborate with them to produce highquality content that resonates with viewers."
   ]
  },
  {
   "cell_type": "code",
   "execution_count": null,
   "id": "01f1d30c-acd3-4492-9773-66cc96facf35",
   "metadata": {},
   "outputs": [],
   "source": []
  },
  {
   "cell_type": "markdown",
   "id": "ebe52945-d6c5-4f5f-bd49-7e5137991d63",
   "metadata": {},
   "source": [
    "## Q.2- Observations on the shape of data, data types of all the attributes, conversion of categorical attributes to ‘category’ (If required), missing value detection, statistical summary"
   ]
  },
  {
   "cell_type": "code",
   "execution_count": 17,
   "id": "2693ff9e-5fb8-42c1-b79f-7709d1bc06d0",
   "metadata": {},
   "outputs": [
    {
     "name": "stdout",
     "output_type": "stream",
     "text": [
      "Shape of the dataset: (8807, 13)\n"
     ]
    }
   ],
   "source": [
    "print(\"Shape of the dataset:\", netflix_data.shape)"
   ]
  },
  {
   "cell_type": "code",
   "execution_count": 18,
   "id": "e89e82c2-93de-4990-9acf-c662860d806a",
   "metadata": {},
   "outputs": [
    {
     "name": "stdout",
     "output_type": "stream",
     "text": [
      "Data types of attributes:\n",
      "show_id                 object\n",
      "type                    object\n",
      "title                   object\n",
      "director                object\n",
      "cast                    object\n",
      "country                 object\n",
      "date_added      datetime64[ns]\n",
      "release_year             int64\n",
      "rating                  object\n",
      "duration                object\n",
      "listed_in               object\n",
      "description             object\n",
      "month_added             object\n",
      "dtype: object\n"
     ]
    }
   ],
   "source": [
    "print(\"Data types of attributes:\")\n",
    "print(netflix_data.dtypes)"
   ]
  },
  {
   "cell_type": "code",
   "execution_count": 19,
   "id": "e4a1a431-4131-420d-99b6-242f911830e8",
   "metadata": {},
   "outputs": [
    {
     "name": "stdout",
     "output_type": "stream",
     "text": [
      "Missing values:\n",
      "show_id            0\n",
      "type               0\n",
      "title              0\n",
      "director        2634\n",
      "cast             825\n",
      "country          831\n",
      "date_added        98\n",
      "release_year       0\n",
      "rating             4\n",
      "duration           3\n",
      "listed_in          0\n",
      "description        0\n",
      "month_added       98\n",
      "dtype: int64\n"
     ]
    }
   ],
   "source": [
    "categorical_attributes = ['type', 'title', 'director', 'cast', 'country','rating', 'listed_in', 'description']\n",
    "netflix_data[categorical_attributes] = netflix_data[categorical_attributes].astype('category')\n",
    "print(\"Missing values:\")\n",
    "print(netflix_data.isnull().sum())"
   ]
  },
  {
   "cell_type": "code",
   "execution_count": 20,
   "id": "1379fcdb-733c-4e81-92ca-e4316e5e1d34",
   "metadata": {},
   "outputs": [
    {
     "name": "stdout",
     "output_type": "stream",
     "text": [
      "Statistical summary of numerical attributes:\n",
      "                          date_added  release_year\n",
      "count                           8709   8807.000000\n",
      "mean   2019-05-23 01:45:29.452290816   2014.180198\n",
      "min              2008-01-01 00:00:00   1925.000000\n",
      "25%              2018-04-20 00:00:00   2013.000000\n",
      "50%              2019-07-12 00:00:00   2017.000000\n",
      "75%              2020-08-26 00:00:00   2019.000000\n",
      "max              2021-09-25 00:00:00   2021.000000\n",
      "std                              NaN      8.819312\n"
     ]
    }
   ],
   "source": [
    "print(\"Statistical summary of numerical attributes:\")\n",
    "print(netflix_data.describe())"
   ]
  },
  {
   "cell_type": "code",
   "execution_count": null,
   "id": "56725bde-c888-4e11-9369-27e26fe5a90a",
   "metadata": {},
   "outputs": [],
   "source": []
  },
  {
   "cell_type": "markdown",
   "id": "0cac8d96-d97c-44df-a1ee-64cce2cd9d89",
   "metadata": {},
   "source": [
    "## 2.1 Summary for Question 2\n",
    "The provided Netflix dataset contains information about movies and TV shows available on the\n",
    "platform. Here is a summary of the dataset based on the analysis:\n",
    "\n",
    "Shape of the dataset: The dataset consists of 8,807 rows and 14 columns.\n",
    "\n",
    "Data types of attributes: The dataset includes various data types, such as object (strings), datetime,\n",
    "int64, float64.\n",
    "\n",
    "Missing values: Several columns have missing values, including ‘director’, ‘cast’, ‘country’,\n",
    "‘date_added’, ‘rating’, ‘duration’, ‘year_added’, and ‘month_added’. The number of missing values\n",
    "varies for each column.\n",
    "    \n",
    "Statistical summary: The numerical attributes, ‘release_year’ and ‘year_added’, have been analyzed. The ‘release_year’ represents the actual release year of the movies or TV shows, while\n",
    "‘year_added’ indicates the year when the content was added to Netflix. The summary provides\n",
    "measures such as count, mean, minimum, maximum, and quartiles for these attributes."
   ]
  },
  {
   "cell_type": "code",
   "execution_count": null,
   "id": "fc8d21af-33b6-4c45-9834-d17e469b8f8e",
   "metadata": {},
   "outputs": [],
   "source": []
  },
  {
   "cell_type": "markdown",
   "id": "c45943b0-065f-4a33-9457-ff0811ed8a0f",
   "metadata": {},
   "source": [
    "## Que 3- Non-Graphical Analysis: Value counts and unique attributes"
   ]
  },
  {
   "cell_type": "code",
   "execution_count": 23,
   "id": "e2678f14-4924-4224-ad55-30cb6b46d88a",
   "metadata": {},
   "outputs": [
    {
     "name": "stdout",
     "output_type": "stream",
     "text": [
      "country           listed_in                                       \n",
      "United States     Documentaries                                       249\n",
      "                  Stand-Up Comedy                                     209\n",
      "India             Comedies, Dramas, International Movies              120\n",
      "                  Dramas, International Movies                        118\n",
      "                  Dramas, Independent Movies, International Movies    108\n",
      "                                                                     ... \n",
      "India, Australia  TV Shows                                              0\n",
      "                  TV Dramas, TV Sci-Fi & Fantasy, TV Thrillers          0\n",
      "                  Music & Musicals, Stand-Up Comedy                     0\n",
      "                  Music & Musicals, Romantic Movies                     0\n",
      "Zimbabwe          Thrillers                                             0\n",
      "Name: count, Length: 384472, dtype: int64\n"
     ]
    }
   ],
   "source": [
    "#Types of content available in different countries\n",
    "content_by_country = netflix_data.groupby('country')['listed_in'].value_counts().sort_values(ascending=False)\n",
    "print(content_by_country)"
   ]
  },
  {
   "cell_type": "code",
   "execution_count": 24,
   "id": "d45f6f4b-7b48-4afe-a502-471946afcc30",
   "metadata": {},
   "outputs": [
    {
     "name": "stdout",
     "output_type": "stream",
     "text": [
      "release_year\n",
      "1942      2\n",
      "1943      3\n",
      "1944      3\n",
      "1945      3\n",
      "1946      1\n",
      "       ... \n",
      "2017    767\n",
      "2018    767\n",
      "2019    633\n",
      "2020    517\n",
      "2021    277\n",
      "Name: count, Length: 73, dtype: int64\n"
     ]
    }
   ],
   "source": [
    "# Number of movies released per year\n",
    "movies_per_year = netflix_data[netflix_data['type'] == 'Movie']['release_year'].value_counts().sort_index()\n",
    "print(movies_per_year)"
   ]
  },
  {
   "cell_type": "code",
   "execution_count": 26,
   "id": "cdd8f226-8e82-4c68-9d41-6d11dd74da4f",
   "metadata": {},
   "outputs": [
    {
     "name": "stdout",
     "output_type": "stream",
     "text": [
      "release_year\n",
      "1925      1\n",
      "1945      1\n",
      "1946      1\n",
      "1963      1\n",
      "1967      1\n",
      "1972      1\n",
      "1974      1\n",
      "1977      1\n",
      "1979      1\n",
      "1981      1\n",
      "1985      1\n",
      "1986      2\n",
      "1988      2\n",
      "1989      1\n",
      "1990      3\n",
      "1991      1\n",
      "1992      3\n",
      "1993      4\n",
      "1994      2\n",
      "1995      2\n",
      "1996      3\n",
      "1997      4\n",
      "1998      4\n",
      "1999      7\n",
      "2000      4\n",
      "2001      5\n",
      "2002      7\n",
      "2003     10\n",
      "2004      9\n",
      "2005     13\n",
      "2006     14\n",
      "2007     14\n",
      "2008     23\n",
      "2009     34\n",
      "2010     40\n",
      "2011     40\n",
      "2012     64\n",
      "2013     63\n",
      "2014     88\n",
      "2015    162\n",
      "2016    244\n",
      "2017    265\n",
      "2018    380\n",
      "2019    397\n",
      "2020    436\n",
      "2021    315\n",
      "Name: count, dtype: int64\n"
     ]
    }
   ],
   "source": [
    "# Number of TV shows released per year\n",
    "movies_per_year = netflix_data[netflix_data['type'] == 'TV Show']['release_year'].value_counts().sort_index()\n",
    "print(movies_per_year)"
   ]
  },
  {
   "cell_type": "code",
   "execution_count": 27,
   "id": "051e5abe-6f71-4aeb-9f32-21618fe634fd",
   "metadata": {},
   "outputs": [
    {
     "name": "stdout",
     "output_type": "stream",
     "text": [
      "type\n",
      "Movie      6131\n",
      "TV Show    2676\n",
      "Name: count, dtype: int64\n"
     ]
    }
   ],
   "source": [
    "# Comparison of TV shows vs. movies\n",
    "content_type_counts = netflix_data['type'].value_counts()\n",
    "print(content_type_counts)"
   ]
  },
  {
   "cell_type": "code",
   "execution_count": 28,
   "id": "5ade90dc-c791-484e-a7af-3e9c3c246274",
   "metadata": {},
   "outputs": [
    {
     "name": "stdout",
     "output_type": "stream",
     "text": [
      "month_added\n",
      "1.0     181\n",
      "2.0     175\n",
      "3.0     205\n",
      "4.0     209\n",
      "5.0     187\n",
      "6.0     232\n",
      "7.0     254\n",
      "8.0     230\n",
      "9.0     246\n",
      "10.0    210\n",
      "11.0    199\n",
      "12.0    250\n",
      "Name: count, dtype: int64\n"
     ]
    }
   ],
   "source": [
    " # Best time to launch a TV show\n",
    "netflix_data['date_added'] = pd.to_datetime(netflix_data['date_added'])\n",
    "netflix_data['month_added'] = netflix_data['date_added'].dt.month\n",
    "tv_shows_by_month = netflix_data[netflix_data['type'] == 'TV Show']['month_added'].value_counts().sort_index()\n",
    "print(tv_shows_by_month)"
   ]
  },
  {
   "cell_type": "code",
   "execution_count": 30,
   "id": "bd8df70e-9afb-4566-b228-12f82451bf14",
   "metadata": {},
   "outputs": [
    {
     "name": "stdout",
     "output_type": "stream",
     "text": [
      "cast\n",
      "Anupam Kher                43\n",
      "Shah Rukh Khan             35\n",
      "Julie Tejwani              33\n",
      "Naseeruddin Shah           32\n",
      "Takahiro Sakurai           32\n",
      "                           ..\n",
      "Maryam Zaree                1\n",
      "Melanie Straub              1\n",
      "Gabriela Maria Schmeide     1\n",
      "Helena Zengel               1\n",
      "Chittaranjan Tripathy       1\n",
      "Name: count, Length: 36439, dtype: int64\n",
      "director\n",
      "Rajiv Chilaka     22\n",
      "Jan Suter         21\n",
      "Raúl Campos       19\n",
      "Suhas Kadav       16\n",
      "Marcus Raboy      16\n",
      "                  ..\n",
      "Raymie Muzquiz     1\n",
      "Stu Livingston     1\n",
      "Joe Menendez       1\n",
      "Eric Bross         1\n",
      "Mozez Singh        1\n",
      "Name: count, Length: 4993, dtype: int64\n"
     ]
    }
   ],
   "source": [
    "# Analysis of actors/directors of different types of shows/movies\n",
    "actors_counts = netflix_data['cast'].str.split(', ').explode().value_counts()\n",
    "directors_counts = netflix_data['director'].str.split(', ').explode().value_counts()\n",
    "print(actors_counts)\n",
    "print(directors_counts)\n",
    "# this is already did in question 1, you can refer that"
   ]
  },
  {
   "cell_type": "code",
   "execution_count": 32,
   "id": "2f7adf73-3580-4ef9-8eb8-4f7420c55692",
   "metadata": {},
   "outputs": [
    {
     "name": "stdout",
     "output_type": "stream",
     "text": [
      "release_year  type   \n",
      "1925          TV Show    1.000000\n",
      "              Movie      0.000000\n",
      "1942          Movie      1.000000\n",
      "              TV Show    0.000000\n",
      "1943          Movie      1.000000\n",
      "                           ...   \n",
      "2019          TV Show    0.385437\n",
      "2020          Movie      0.542497\n",
      "              TV Show    0.457503\n",
      "2021          TV Show    0.532095\n",
      "              Movie      0.467905\n",
      "Name: proportion, Length: 148, dtype: float64\n"
     ]
    }
   ],
   "source": [
    "# Focus on TV shows versus movies in recent years\n",
    "movies_tvshow_shares_per_year = netflix_data.groupby('release_year')['type'].value_counts(normalize=True)\n",
    "print(movies_tvshow_shares_per_year)"
   ]
  },
  {
   "cell_type": "code",
   "execution_count": null,
   "id": "fb31cd4c-c62b-4b19-ac2c-4e0112f652b8",
   "metadata": {},
   "outputs": [],
   "source": []
  },
  {
   "cell_type": "markdown",
   "id": "cae8ad12-e22c-47a3-9b37-807b18d95517",
   "metadata": {},
   "source": [
    "Example: For movies in the year 2020 is 0.542497, while the normalized proportion for TV shows\n",
    "is 0.457503. This suggests that in the year 2020, movies made up approximately 54.25% of the\n",
    "content, while TV shows accounted for around 45.75%.\n",
    "\n",
    "                                 \n",
    "## 3.1 Summary for Question 3\n",
    "\n",
    "Types of Content: The dataset provides insights into the types of content available in different\n",
    "countries. The count of content varies across countries and genres, with some countries having a\n",
    "diverse range of content available.\n",
    "\n",
    "Movies Released per Year: The number of movies released per year has varied over time. The\n",
    "dataset includes movies released from 1925 to the present, with a higher number of releases in\n",
    "recent years.\n",
    "    \n",
    "TV Shows versus Movies: The dataset contains both TV shows and movies. The count reveals that\n",
    "there are more movies (6131) compared to TV shows (2676) in the dataset.\n",
    "    \n",
    "Best Time to Launch TV Shows: The dataset includes information on the month when content was\n",
    "added to Netflix. The count of TV shows added per month suggests that July and December have\n",
    "the highest number of TV show releases.\n",
    "\n",
    "Analysis of Actors and Directors: The dataset includes information on the cast (actors) and directors\n",
    "of the shows/movies. The count reveals the most frequently appearing actors and directors in the\n",
    "dataset.\n",
    "\n",
    "Focus on TV Shows versus Movies in Recent Years: The exploration analyzes the normalized\n",
    "proportion of TV shows and movies by release year. It shows the relative focus of TV shows and\n",
    "movies in recent years, indicating the proportion of each content type within a specific year."
   ]
  },
  {
   "cell_type": "code",
   "execution_count": null,
   "id": "49ac32ae-457d-48cd-8956-6cf575b552b7",
   "metadata": {},
   "outputs": [],
   "source": []
  },
  {
   "cell_type": "code",
   "execution_count": null,
   "id": "355ab0f6-4771-4ce8-a783-c17b23bf4dbc",
   "metadata": {},
   "outputs": [],
   "source": []
  }
 ],
 "metadata": {
  "kernelspec": {
   "display_name": "Python 3 (ipykernel)",
   "language": "python",
   "name": "python3"
  },
  "language_info": {
   "codemirror_mode": {
    "name": "ipython",
    "version": 3
   },
   "file_extension": ".py",
   "mimetype": "text/x-python",
   "name": "python",
   "nbconvert_exporter": "python",
   "pygments_lexer": "ipython3",
   "version": "3.11.4"
  }
 },
 "nbformat": 4,
 "nbformat_minor": 5
}
